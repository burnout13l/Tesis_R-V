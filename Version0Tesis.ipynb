{
  "nbformat": 4,
  "nbformat_minor": 0,
  "metadata": {
    "colab": {
      "provenance": [],
      "include_colab_link": true
    },
    "kernelspec": {
      "name": "python3",
      "display_name": "Python 3"
    },
    "language_info": {
      "name": "python"
    }
  },
  "cells": [
    {
      "cell_type": "markdown",
      "metadata": {
        "id": "view-in-github",
        "colab_type": "text"
      },
      "source": [
        "<a href=\"https://colab.research.google.com/github/burnout13l/Tesis_R-V/blob/main/Version0Tesis.ipynb\" target=\"_parent\"><img src=\"https://colab.research.google.com/assets/colab-badge.svg\" alt=\"Open In Colab\"/></a>"
      ]
    },
    {
      "cell_type": "code",
      "execution_count": null,
      "metadata": {
        "colab": {
          "base_uri": "https://localhost:8080/"
        },
        "id": "KhZreuxl9dZj",
        "outputId": "9ab2d90f-9309-412e-987d-335557660c72"
      },
      "outputs": [
        {
          "output_type": "stream",
          "name": "stdout",
          "text": [
            "hola mundo\n"
          ]
        }
      ],
      "source": [
        "print (\"hola mundo\")\n",
        "print (\"hola mundo\")\n",
        "print (\"hola mundo\")\n",
        "print (\"hola mundo\")\n",
        "print (\"hola mundo\")\n",
        "\n"
      ]
    },
    {
      "cell_type": "code",
      "source": [
        "print(\"Hector Romero \")\n",
        "print(\"Hector Romero \")\n",
        "print(\"Hector Romero \")\n",
        "print(\"Hector Romero \")\n",
        "print(\"Hector Romero \")\n",
        "print(\"Hector Romero \")\n",
        "print(\"Hector Romero \")\n",
        "print(\"Hector Romero \")\n",
        "print(\"Hector Romero \")\n",
        "print(\"Hector Romero \")\n",
        "print(\"Hector Romero \")\n",
        "print(\"Hector Romero \")\n",
        "print(\"Hector Romero \")\n",
        "print(\"Hector Romero \")"
      ],
      "metadata": {
        "colab": {
          "base_uri": "https://localhost:8080/"
        },
        "id": "H66AQZmqIXiE",
        "outputId": "a6bff3ae-c66a-4970-a920-9f02015e9a74"
      },
      "execution_count": null,
      "outputs": [
        {
          "output_type": "stream",
          "name": "stdout",
          "text": [
            "Hector Romero \n",
            "Hector Romero \n",
            "Hector Romero \n",
            "Hector Romero \n",
            "Hector Romero \n",
            "Hector Romero \n",
            "Hector Romero \n",
            "Hector Romero \n",
            "Hector Romero \n",
            "Hector Romero \n",
            "Hector Romero \n",
            "Hector Romero \n",
            "Hector Romero \n",
            "Hector Romero \n"
          ]
        }
      ]
    }
  ]
}